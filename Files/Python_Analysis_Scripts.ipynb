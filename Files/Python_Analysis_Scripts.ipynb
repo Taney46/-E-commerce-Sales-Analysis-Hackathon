#Import dependencies
pip install pandas sqlalchemy pymysql matplotlib seaborn streamlit

#Database Connection
import pandas as pd
from sqlalchemy import create_engine

# Database connection 
db_username = "root"
db_password = "velvexita3*"
db_host = "localhost"
db_name = "hackathon"

# Creating connection
engine = create_engine(f"mysql+pymysql://{db_username}:{db_password}@{db_host}/{db_name}")

# Fetching data from SQL table
query = "SELECT * FROM sales_data"  
df = pd.read_sql(query, engine)


print(df.head())

# Check for any missed missing values
print(df.isnull().sum())

# Display cleaned data
print(df.info())


#EDA
#Total Sales by Category
import matplotlib.pyplot as plt
import seaborn as sns

# Group by category
sales_by_category = df.groupby('Category')['TotalPrice'].sum()

# Plot
plt.figure(figsize=(10, 5))
sns.barplot(x=sales_by_category.index, y=sales_by_category.values)
plt.xticks(rotation=45)
plt.title("Total Sales by Category")
plt.xlabel("Category")
plt.ylabel("Total Sales")
plt.show()


#Sales trend overtime
# Convert OrderDate to datetime format
df['OrderDate'] = pd.to_datetime(df['OrderDate'])

# Aggregate total sales by date
sales_trend = df.groupby('OrderDate')['TotalPrice'].sum()

# Plot sales trend
plt.figure(figsize=(12, 5))
sales_trend.plot()
plt.title("Daily Sales Trend")
plt.xlabel("Date")
plt.ylabel("Total Sales")
plt.grid()
plt.show()


#Gender-Based Spending Trends
# Average spending per gender
gender_spending = df.groupby('Gender')['TotalPrice'].mean().round(2)

# Plot
plt.figure(figsize=(8, 5))
sns.barplot(x=gender_spending.index, y=gender_spending.values, palette="coolwarm")
plt.title("Average Spending per Customer by Gender")
plt.xlabel("Gender")
plt.ylabel("Average Total Price")
plt.show()


#The Best-Selling Products
# Top-selling products by revenue
top_products = df.groupby('ProductName')['TotalPrice'].sum().sort_values(ascending=False).head(5)

# Plot
plt.figure(figsize=(10, 5))
sns.barplot(x=top_products.index, y=top_products.values, palette="viridis")
plt.xticks(rotation=45)
plt.title("Top 5 Best-Selling Products")
plt.xlabel("Product Name")
plt.ylabel("Total Sales")
plt.show()


#Monthly Sales Trends
# Convert OrderDate to datetime format
df['OrderDate'] = pd.to_datetime(df['OrderDate'])

# Resample data to get monthly total sales
monthly_sales = df.resample('ME', on='OrderDate')['TotalPrice'].sum()

# Plot
plt.figure(figsize=(12, 5))
monthly_sales.plot(marker='o', linestyle="-", color="purple")
plt.title("Monthly Sales Trend")
plt.xlabel("Month")
plt.ylabel("Total Sales")
plt.grid()
plt.show()


#Revenue by Region
# Sales by Region
sales_by_region = df.groupby('Region')['TotalPrice'].sum().sort_values(ascending=False)

# Plot
plt.figure(figsize=(10, 5))
sns.barplot(x=sales_by_region.index, y=sales_by_region.values, palette="magma")
plt.xticks(rotation=45)
plt.title("Sales Distribution by Region")
plt.xlabel("Region")
plt.ylabel("Total Sales")
plt.show()


#Order Delivery Status
# Count shipping statuses
shipping_status_counts = df['ShippingStatus'].value_counts()

# Plot
plt.figure(figsize=(8, 5))
sns.barplot(x=shipping_status_counts.index, y=shipping_status_counts.values, palette="coolwarm")
plt.title("Shipping Status Distribution")
plt.xlabel("Shipping Status")
plt.ylabel("Number of Orders")
plt.show()


