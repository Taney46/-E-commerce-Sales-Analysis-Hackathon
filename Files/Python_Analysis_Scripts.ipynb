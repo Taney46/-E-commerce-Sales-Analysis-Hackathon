{
 "cells": [
  {
   "cell_type": "code",
   "execution_count": null,
   "id": "9c1f2b27",
   "metadata": {},
   "outputs": [],
   "source": [
    "import pandas as pd\n",
    "from sqlalchemy import create_engine\n",
    "\n",
    "# Database connection \n",
    "db_username = \"root\"\n",
    "db_password = \" \"\n",
    "db_host = \"localhost\"\n",
    "db_name = \"hackathon\"\n",
    "\n",
    "# Creating connection\n",
    "engine = create_engine(f\"mysql+pymysql://{db_username}:{db_password}@{db_host}/{db_name}\")\n",
    "\n",
    "# Fetching data from SQL table\n",
    "query = \"SELECT * FROM sales_data\"  \n",
    "df = pd.read_sql(query, engine)\n",
    "\n",
    "\n",
    "print(df.head())\n"
   ]
  },
  {
   "cell_type": "code",
   "execution_count": null,
   "id": "a8f02d51",
   "metadata": {},
   "outputs": [],
   "source": [
    "# Check for any missed missing values\n",
    "print(df.isnull().sum())\n",
    "\n",
    "# Display cleaned data\n",
    "print(df.info())\n"
   ]
  },
  {
   "cell_type": "code",
   "execution_count": null,
   "id": "8df216cd",
   "metadata": {},
   "outputs": [],
   "source": [
    "#EDA\n",
    "#Total Sales by Category\n",
    "import matplotlib.pyplot as plt\n",
    "import seaborn as sns\n",
    "\n",
    "# Group by category\n",
    "sales_by_category = df.groupby('Category')['TotalPrice'].sum()\n",
    "\n",
    "# Plot\n",
    "plt.figure(figsize=(10, 5))\n",
    "sns.barplot(x=sales_by_category.index, y=sales_by_category.values)\n",
    "plt.xticks(rotation=45)\n",
    "plt.title(\"Total Sales by Category\")\n",
    "plt.xlabel(\"Category\")\n",
    "plt.ylabel(\"Total Sales\")\n",
    "plt.show()\n"
   ]
  },
  {
   "cell_type": "code",
   "execution_count": null,
   "id": "a1a52208",
   "metadata": {},
   "outputs": [],
   "source": [
    "#Sales trend overtime\n",
    "# Convert OrderDate to datetime format\n",
    "df['OrderDate'] = pd.to_datetime(df['OrderDate'])\n",
    "\n",
    "# Aggregate total sales by date\n",
    "sales_trend = df.groupby('OrderDate')['TotalPrice'].sum()\n",
    "\n",
    "# Plot sales trend\n",
    "plt.figure(figsize=(12, 5))\n",
    "sales_trend.plot()\n",
    "plt.title(\"Daily Sales Trend\")\n",
    "plt.xlabel(\"Date\")\n",
    "plt.ylabel(\"Total Sales\")\n",
    "plt.grid()\n",
    "plt.show()\n"
   ]
  },
  {
   "cell_type": "code",
   "execution_count": null,
   "id": "1325cc04",
   "metadata": {},
   "outputs": [],
   "source": [
    "#Gender-Based Spending Trends\n",
    "# Average spending per gender\n",
    "gender_spending = df.groupby('Gender')['TotalPrice'].mean().round(2)\n",
    "\n",
    "# Plot\n",
    "plt.figure(figsize=(8, 5))\n",
    "sns.barplot(x=gender_spending.index, y=gender_spending.values, palette=\"coolwarm\")\n",
    "plt.title(\"Average Spending per Customer by Gender\")\n",
    "plt.xlabel(\"Gender\")\n",
    "plt.ylabel(\"Average Total Price\")\n",
    "plt.show()\n"
   ]
  },
  {
   "cell_type": "code",
   "execution_count": null,
   "id": "4a1b450d",
   "metadata": {},
   "outputs": [],
   "source": [
    "#The Best-Selling Products\n",
    "# Top-selling products by revenue\n",
    "top_products = df.groupby('ProductName')['TotalPrice'].sum().sort_values(ascending=False).head(5)\n",
    "\n",
    "# Plot\n",
    "plt.figure(figsize=(10, 5))\n",
    "sns.barplot(x=top_products.index, y=top_products.values, palette=\"viridis\")\n",
    "plt.xticks(rotation=45)\n",
    "plt.title(\"Top 5 Best-Selling Products\")\n",
    "plt.xlabel(\"Product Name\")\n",
    "plt.ylabel(\"Total Sales\")\n",
    "plt.show()\n"
   ]
  },
  {
   "cell_type": "code",
   "execution_count": null,
   "id": "fe140759",
   "metadata": {},
   "outputs": [],
   "source": [
    "#Monthly Sales Trends\n",
    "# Convert OrderDate to datetime format\n",
    "df['OrderDate'] = pd.to_datetime(df['OrderDate'])\n",
    "\n",
    "# Resample data to get monthly total sales\n",
    "monthly_sales = df.resample('ME', on='OrderDate')['TotalPrice'].sum()\n",
    "\n",
    "# Plot\n",
    "plt.figure(figsize=(12, 5))\n",
    "monthly_sales.plot(marker='o', linestyle=\"-\", color=\"purple\")\n",
    "plt.title(\"Monthly Sales Trend\")\n",
    "plt.xlabel(\"Month\")\n",
    "plt.ylabel(\"Total Sales\")\n",
    "plt.grid()\n",
    "plt.show()\n"
   ]
  },
  {
   "cell_type": "code",
   "execution_count": null,
   "id": "0bde6d80",
   "metadata": {},
   "outputs": [],
   "source": [
    "#Revenue by Region\n",
    "# Sales by Region\n",
    "sales_by_region = df.groupby('Region')['TotalPrice'].sum().sort_values(ascending=False)\n",
    "\n",
    "# Plot\n",
    "plt.figure(figsize=(10, 5))\n",
    "sns.barplot(x=sales_by_region.index, y=sales_by_region.values, palette=\"magma\")\n",
    "plt.xticks(rotation=45)\n",
    "plt.title(\"Sales Distribution by Region\")\n",
    "plt.xlabel(\"Region\")\n",
    "plt.ylabel(\"Total Sales\")\n",
    "plt.show()\n"
   ]
  },
  {
   "cell_type": "code",
   "execution_count": null,
   "id": "cdc21f28",
   "metadata": {},
   "outputs": [],
   "source": [
    "#Order Delivery Status\n",
    "# Count shipping statuses\n",
    "shipping_status_counts = df['ShippingStatus'].value_counts()\n",
    "\n",
    "# Plot\n",
    "plt.figure(figsize=(8, 5))\n",
    "sns.barplot(x=shipping_status_counts.index, y=shipping_status_counts.values, palette=\"coolwarm\")\n",
    "plt.title(\"Shipping Status Distribution\")\n",
    "plt.xlabel(\"Shipping Status\")\n",
    "plt.ylabel(\"Number of Orders\")\n",
    "plt.show()\n"
   ]
  }
 ],
 "metadata": {
  "kernelspec": {
   "display_name": "Python 3 (ipykernel)",
   "language": "python",
   "name": "python3"
  },
  "language_info": {
   "codemirror_mode": {
    "name": "ipython",
    "version": 3
   },
   "file_extension": ".py",
   "mimetype": "text/x-python",
   "name": "python",
   "nbconvert_exporter": "python",
   "pygments_lexer": "ipython3",
   "version": "3.13.0"
  }
 },
 "nbformat": 4,
 "nbformat_minor": 5
}
